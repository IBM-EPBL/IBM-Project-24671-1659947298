{
  "cells": [
    {
      "cell_type": "markdown",
      "id": "41a37808",
      "metadata": {
        "id": "41a37808"
      },
      "source": [
        "# Sprint 2"
      ]
    },
    {
      "cell_type": "markdown",
      "id": "44a28e66",
      "metadata": {
        "id": "44a28e66"
      },
      "source": [
        "Team ID - PNT2022TMID05849"
      ]
    },
    {
      "cell_type": "markdown",
      "id": "c55e52c8",
      "metadata": {
        "id": "c55e52c8"
      },
      "source": [
        "# Importing the required libraries"
      ]
    },
    {
      "cell_type": "code",
      "execution_count": 1,
      "id": "8e99c7de",
      "metadata": {
        "id": "8e99c7de"
      },
      "outputs": [],
      "source": [
        "import numpy as np\n",
        "import tensorflow #open source used for both ML and DL for computation\n",
        "from tensorflow.keras.datasets import mnist #mnist dataset\n",
        "from tensorflow.keras.models import Sequential #it is a plain stack of layers\n",
        "from tensorflow.keras import layers #A Layer consists of a tensor- in tensor-out computat ion funct ion\n",
        "from tensorflow.keras.layers import Dense, Flatten #Dense-Dense Layer is the regular deeply connected r\n",
        "#faltten -used fot flattening the input or change the dimension\n",
        "from tensorflow.keras.layers import Conv2D #onvoLutiona l Layer\n",
        "from keras.optimizers import Adam #opt imizer\n",
        "from keras. utils import np_utils #used for one-hot encoding\n",
        "import matplotlib.pyplot as plt   #used for data visualization"
      ]
    },
    {
      "cell_type": "code",
      "execution_count": 2,
      "id": "8e338d4d",
      "metadata": {
        "colab": {
          "base_uri": "https://localhost:8080/"
        },
        "id": "8e338d4d",
        "outputId": "b4365be6-2670-43f4-b537-d8fb95081b6a"
      },
      "outputs": [
        {
          "output_type": "stream",
          "name": "stdout",
          "text": [
            "Downloading data from https://storage.googleapis.com/tensorflow/tf-keras-datasets/mnist.npz\n",
            "11490434/11490434 [==============================] - 1s 0us/step\n"
          ]
        }
      ],
      "source": [
        "(x_train, y_train), (x_test, y_test)=mnist.load_data ()\n",
        "x_train=x_train.reshape (60000, 28, 28, 1).astype('float32')\n",
        "x_test=x_test.reshape (10000, 28, 28, 1).astype ('float32')\n",
        "number_of_classes = 10  #storing the no of classes in a variable\n",
        "y_train = np_utils.to_categorical (y_train, number_of_classes) #converts the output in binary format\n",
        "y_test = np_utils.to_categorical (y_test, number_of_classes)"
      ]
    },
    {
      "cell_type": "markdown",
      "id": "88006d15",
      "metadata": {
        "id": "88006d15"
      },
      "source": [
        "# Add CNN Layers"
      ]
    },
    {
      "cell_type": "code",
      "execution_count": 3,
      "id": "4423493c",
      "metadata": {
        "id": "4423493c"
      },
      "outputs": [],
      "source": [
        "#create model\n",
        "model=Sequential ()"
      ]
    },
    {
      "cell_type": "code",
      "execution_count": 4,
      "id": "f8a2be7f",
      "metadata": {
        "id": "f8a2be7f"
      },
      "outputs": [],
      "source": [
        "#adding modeL Layer\n",
        "model.add(Conv2D(64, (3, 3), input_shape=(28, 28, 1), activation='relu'))\n",
        "model.add(Conv2D(32, (3, 3), activation = 'relu'))"
      ]
    },
    {
      "cell_type": "code",
      "execution_count": 5,
      "id": "311f8cb0",
      "metadata": {
        "id": "311f8cb0"
      },
      "outputs": [],
      "source": [
        "#flatten the dimension of the image\n",
        "model.add(Flatten())"
      ]
    },
    {
      "cell_type": "code",
      "execution_count": 6,
      "id": "d9566989",
      "metadata": {
        "id": "d9566989"
      },
      "outputs": [],
      "source": [
        "#output layer with 10 neurons\n",
        "model.add(Dense(number_of_classes,activation = 'softmax'))"
      ]
    },
    {
      "cell_type": "markdown",
      "id": "d52d8b17",
      "metadata": {
        "id": "d52d8b17"
      },
      "source": [
        "# Compiling the model"
      ]
    },
    {
      "cell_type": "code",
      "execution_count": 7,
      "id": "b532e03b",
      "metadata": {
        "id": "b532e03b"
      },
      "outputs": [],
      "source": [
        "#Compile model\n",
        "model.compile(loss= 'categorical_crossentropy', optimizer=\"Adam\", metrics=['accuracy'])"
      ]
    },
    {
      "cell_type": "code",
      "execution_count": 8,
      "id": "586131c8",
      "metadata": {
        "id": "586131c8"
      },
      "outputs": [],
      "source": [
        "x_train = np.asarray(x_train)\n",
        "y_train = np.asarray(y_train)"
      ]
    },
    {
      "cell_type": "markdown",
      "id": "a0d313ad",
      "metadata": {
        "id": "a0d313ad"
      },
      "source": [
        "# Train the model"
      ]
    },
    {
      "cell_type": "code",
      "execution_count": 9,
      "id": "de52342f",
      "metadata": {
        "colab": {
          "base_uri": "https://localhost:8080/"
        },
        "id": "de52342f",
        "outputId": "4f2344a0-977c-4e24-be08-b1b46e6b2373"
      },
      "outputs": [
        {
          "output_type": "stream",
          "name": "stdout",
          "text": [
            "Epoch 1/5\n",
            "1875/1875 [==============================] - 193s 102ms/step - loss: 0.2714 - accuracy: 0.9500 - val_loss: 0.1014 - val_accuracy: 0.9679\n",
            "Epoch 2/5\n",
            "1875/1875 [==============================] - 193s 103ms/step - loss: 0.0755 - accuracy: 0.9771 - val_loss: 0.0810 - val_accuracy: 0.9759\n",
            "Epoch 3/5\n",
            "1875/1875 [==============================] - 191s 102ms/step - loss: 0.0521 - accuracy: 0.9829 - val_loss: 0.0931 - val_accuracy: 0.9733\n",
            "Epoch 4/5\n",
            "1875/1875 [==============================] - 189s 101ms/step - loss: 0.0385 - accuracy: 0.9879 - val_loss: 0.0924 - val_accuracy: 0.9742\n",
            "Epoch 5/5\n",
            "1875/1875 [==============================] - 192s 102ms/step - loss: 0.0297 - accuracy: 0.9905 - val_loss: 0.1058 - val_accuracy: 0.9744\n"
          ]
        },
        {
          "output_type": "execute_result",
          "data": {
            "text/plain": [
              "<keras.callbacks.History at 0x7f7260e30c50>"
            ]
          },
          "metadata": {},
          "execution_count": 9
        }
      ],
      "source": [
        "#fit the model\n",
        "model.fit(x_train, y_train, validation_data=(x_test, y_test), epochs=5, batch_size=32)"
      ]
    },
    {
      "cell_type": "markdown",
      "id": "27ba0285",
      "metadata": {
        "id": "27ba0285"
      },
      "source": [
        "# Observing the metrics"
      ]
    },
    {
      "cell_type": "code",
      "execution_count": 10,
      "id": "290f5219",
      "metadata": {
        "colab": {
          "base_uri": "https://localhost:8080/"
        },
        "id": "290f5219",
        "outputId": "1ed80559-3b40-4329-a7d5-1a6d55f16784"
      },
      "outputs": [
        {
          "output_type": "stream",
          "name": "stdout",
          "text": [
            "Metrics (Test loss &Test Accuracy) : \n",
            "[0.10575506836175919, 0.974399983882904]\n"
          ]
        }
      ],
      "source": [
        "# Final evaluation of the model\n",
        "metrics = model.evaluate(x_test, y_test, verbose=0)\n",
        "print(\"Metrics (Test loss &Test Accuracy) : \")\n",
        "print(metrics)"
      ]
    },
    {
      "cell_type": "code",
      "execution_count": 11,
      "id": "b3659ce9",
      "metadata": {
        "colab": {
          "base_uri": "https://localhost:8080/"
        },
        "id": "b3659ce9",
        "outputId": "f3d26fde-9982-459a-b0cb-9c16d08ee81a"
      },
      "outputs": [
        {
          "output_type": "stream",
          "name": "stdout",
          "text": [
            "1/1 [==============================] - 0s 94ms/step\n",
            "[[3.75872700e-14 1.66474903e-15 1.20094394e-11 2.98239833e-08\n",
            "  1.36284623e-04 2.28440740e-07 4.42121844e-13 4.31769394e-07\n",
            "  3.79421330e-08 9.99863029e-01]]\n"
          ]
        }
      ],
      "source": [
        "prediction=model.predict(x_test[6000:6001])\n",
        "print(prediction)"
      ]
    },
    {
      "cell_type": "code",
      "execution_count": null,
      "id": "feafc23b",
      "metadata": {
        "id": "feafc23b"
      },
      "outputs": [],
      "source": [
        "plt.imshow(x_test[6000])"
      ]
    },
    {
      "cell_type": "code",
      "execution_count": 13,
      "id": "cdc78aac",
      "metadata": {
        "colab": {
          "base_uri": "https://localhost:8080/"
        },
        "id": "cdc78aac",
        "outputId": "054109c3-bd07-4df3-dc48-4b916f2988cd"
      },
      "outputs": [
        {
          "output_type": "stream",
          "name": "stdout",
          "text": [
            "[9]\n"
          ]
        }
      ],
      "source": [
        "import numpy as np\n",
        "print(np.argmax(prediction, axis=1)) #printing our Labels from first 4 images"
      ]
    },
    {
      "cell_type": "code",
      "execution_count": 14,
      "id": "062d3d96",
      "metadata": {
        "colab": {
          "base_uri": "https://localhost:8080/"
        },
        "id": "062d3d96",
        "outputId": "14e17c8e-ea50-4a28-d2ae-d3750d84323d"
      },
      "outputs": [
        {
          "output_type": "execute_result",
          "data": {
            "text/plain": [
              "9"
            ]
          },
          "metadata": {},
          "execution_count": 14
        }
      ],
      "source": [
        "np.argmax(y_test[6000:6001]) #printing the actual labels"
      ]
    },
    {
      "cell_type": "markdown",
      "id": "6141fdb1",
      "metadata": {
        "id": "6141fdb1"
      },
      "source": [
        "# Save The model"
      ]
    },
    {
      "cell_type": "code",
      "execution_count": 15,
      "id": "b70c484c",
      "metadata": {
        "id": "b70c484c"
      },
      "outputs": [],
      "source": [
        "# Save the model\n",
        "model.save('models/mnistCNN.h5')"
      ]
    },
    {
      "cell_type": "code",
      "execution_count": null,
      "id": "8acdff0f",
      "metadata": {
        "id": "8acdff0f"
      },
      "outputs": [],
      "source": []
    }
  ],
  "metadata": {
    "kernelspec": {
      "display_name": "Python 3 (ipykernel)",
      "language": "python",
      "name": "python3"
    },
    "language_info": {
      "codemirror_mode": {
        "name": "ipython",
        "version": 3
      },
      "file_extension": ".py",
      "mimetype": "text/x-python",
      "name": "python",
      "nbconvert_exporter": "python",
      "pygments_lexer": "ipython3",
      "version": "3.10.8"
    },
    "colab": {
      "provenance": []
    }
  },
  "nbformat": 4,
  "nbformat_minor": 5
}